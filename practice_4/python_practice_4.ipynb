{
  "nbformat": 4,
  "nbformat_minor": 0,
  "metadata": {
    "colab": {
      "provenance": [],
      "include_colab_link": true
    },
    "kernelspec": {
      "name": "python3",
      "display_name": "Python 3"
    },
    "language_info": {
      "name": "python"
    }
  },
  "cells": [
    {
      "cell_type": "markdown",
      "metadata": {
        "id": "view-in-github",
        "colab_type": "text"
      },
      "source": [
        "<a href=\"https://colab.research.google.com/github/vladyslavBrothervinn/python-for-big-data-and-data-science/blob/main/practice_4/python_practice_4.ipynb\" target=\"_parent\"><img src=\"https://colab.research.google.com/assets/colab-badge.svg\" alt=\"Open In Colab\"/></a>"
      ]
    },
    {
      "cell_type": "markdown",
      "source": [
        "# I. Functions. Arguments."
      ],
      "metadata": {
        "id": "kXpppdVm6wFy"
      }
    },
    {
      "cell_type": "markdown",
      "source": [
        "1. (5б) Назвіть основні 4 смислові  частини, з яких складається функція."
      ],
      "metadata": {
        "id": "u_krJdlbAkVz"
      }
    },
    {
      "cell_type": "markdown",
      "source": [
        "*місце для текстової відповіді\n",
        "\n",
        "- назва функції\n",
        "- позиційні аргументи, аргументи за замовчуванням\n",
        "- тіло функції\n",
        "- ретурн"
      ],
      "metadata": {
        "id": "KKTrTXmHAptb"
      }
    },
    {
      "cell_type": "markdown",
      "source": [
        "2. (3б) Визначте функцію, що приймає 2 аргументи та повертає результат ділення 1го аргумента на інший."
      ],
      "metadata": {
        "id": "ORM4PqJQAtDM"
      }
    },
    {
      "cell_type": "code",
      "execution_count": null,
      "metadata": {
        "id": "EuDx-z8M6sLo",
        "colab": {
          "base_uri": "https://localhost:8080/"
        },
        "outputId": "c0c69d12-0dae-4397-ade9-d61275f439af"
      },
      "outputs": [
        {
          "output_type": "execute_result",
          "data": {
            "text/plain": [
              "2.0"
            ]
          },
          "metadata": {},
          "execution_count": 1
        }
      ],
      "source": [
        "def dilennya(a, b):\n",
        "  return a / b\n",
        "\n",
        "dilennya(10, 5)"
      ]
    },
    {
      "cell_type": "markdown",
      "source": [
        "3. (2б) Викличте вище визначену функцію, де другий аргумент дорівнює 0."
      ],
      "metadata": {
        "id": "5joQGQ-SAyMe"
      }
    },
    {
      "cell_type": "code",
      "source": [
        "dilennya(10, 0)"
      ],
      "metadata": {
        "id": "V5cBV1LOA3d-",
        "colab": {
          "base_uri": "https://localhost:8080/",
          "height": 245
        },
        "outputId": "2357d15e-b42f-413b-96d9-384ea771365b"
      },
      "execution_count": null,
      "outputs": [
        {
          "output_type": "error",
          "ename": "ZeroDivisionError",
          "evalue": "division by zero",
          "traceback": [
            "\u001b[0;31m---------------------------------------------------------------------------\u001b[0m",
            "\u001b[0;31mZeroDivisionError\u001b[0m                         Traceback (most recent call last)",
            "\u001b[0;32m<ipython-input-2-586c3afd42ee>\u001b[0m in \u001b[0;36m<cell line: 1>\u001b[0;34m()\u001b[0m\n\u001b[0;32m----> 1\u001b[0;31m \u001b[0mdilennya\u001b[0m\u001b[0;34m(\u001b[0m\u001b[0;36m10\u001b[0m\u001b[0;34m,\u001b[0m \u001b[0;36m0\u001b[0m\u001b[0;34m)\u001b[0m\u001b[0;34m\u001b[0m\u001b[0;34m\u001b[0m\u001b[0m\n\u001b[0m",
            "\u001b[0;32m<ipython-input-1-928a04bc3a31>\u001b[0m in \u001b[0;36mdilennya\u001b[0;34m(a, b)\u001b[0m\n\u001b[1;32m      1\u001b[0m \u001b[0;32mdef\u001b[0m \u001b[0mdilennya\u001b[0m\u001b[0;34m(\u001b[0m\u001b[0ma\u001b[0m\u001b[0;34m,\u001b[0m \u001b[0mb\u001b[0m\u001b[0;34m)\u001b[0m\u001b[0;34m:\u001b[0m\u001b[0;34m\u001b[0m\u001b[0;34m\u001b[0m\u001b[0m\n\u001b[0;32m----> 2\u001b[0;31m   \u001b[0;32mreturn\u001b[0m \u001b[0ma\u001b[0m\u001b[0;34m/\u001b[0m\u001b[0mb\u001b[0m\u001b[0;34m\u001b[0m\u001b[0;34m\u001b[0m\u001b[0m\n\u001b[0m\u001b[1;32m      3\u001b[0m \u001b[0;34m\u001b[0m\u001b[0m\n\u001b[1;32m      4\u001b[0m \u001b[0mdilennya\u001b[0m\u001b[0;34m(\u001b[0m\u001b[0;36m10\u001b[0m\u001b[0;34m,\u001b[0m \u001b[0;36m5\u001b[0m\u001b[0;34m)\u001b[0m\u001b[0;34m\u001b[0m\u001b[0;34m\u001b[0m\u001b[0m\n",
            "\u001b[0;31mZeroDivisionError\u001b[0m: division by zero"
          ]
        }
      ]
    },
    {
      "cell_type": "markdown",
      "source": [
        "4. (4б) Перевизначте функцію так, щоби у випадку ділення на 0 функція повертала None, а в решті випадків - результат розрахунків."
      ],
      "metadata": {
        "id": "QyimWgW8A43-"
      }
    },
    {
      "cell_type": "code",
      "source": [
        "def dilennya_v2(a, b):\n",
        "  if b == 0:\n",
        "    return None\n",
        "  else :\n",
        "    return a / b\n",
        "\n",
        "print(dilennya_v2(10,0))\n",
        "print(dilennya_v2(10,2))"
      ],
      "metadata": {
        "id": "7VIODtSjA8Ek",
        "colab": {
          "base_uri": "https://localhost:8080/"
        },
        "outputId": "e6dc871a-cf8b-4cd9-b3ca-ccfe42ea8c68"
      },
      "execution_count": 11,
      "outputs": [
        {
          "output_type": "stream",
          "name": "stdout",
          "text": [
            "None\n",
            "5.0\n"
          ]
        }
      ]
    },
    {
      "cell_type": "markdown",
      "source": [
        "5. (5б) Визначте функцію, що віднімає одне число від іншого (підказка: це буде 2 аргументи функції). При чому, якщо не визначити, скільки саме має бути віднято від числа, за замовчуванням має відніматися 1. Викличте функцію, передаючи тільки один аргумент."
      ],
      "metadata": {
        "id": "Y8mN0GfkA81l"
      }
    },
    {
      "cell_type": "code",
      "source": [
        "def substraction(a, b=1):\n",
        "  return a - b\n",
        "\n",
        "print(substraction(10,5))\n",
        "print(substraction(10))"
      ],
      "metadata": {
        "id": "vg1kxkdgBA50",
        "colab": {
          "base_uri": "https://localhost:8080/"
        },
        "outputId": "875e1c9a-df0f-4781-d131-8c5a2f828848"
      },
      "execution_count": 12,
      "outputs": [
        {
          "output_type": "stream",
          "name": "stdout",
          "text": [
            "5\n",
            "9\n"
          ]
        }
      ]
    },
    {
      "cell_type": "markdown",
      "source": [
        "6. (7б) Визначте функцію, яка приймає iterable (ітерабельний обʼєкт, напр. список), що складається з 7ми рядкових значень - назв погодних умов (напр. \"sunny\") за кожен день у тижні. Повертає функція словник, де ключами є рядки з погодними умовами, а значеннями - кількість разів, скільки дана погода була протягом тижня (напр. {'sunny': 1, ...}). Викличте цю функцію та виведіть результат її роботи на екран."
      ],
      "metadata": {
        "id": "D3mwQGNOBBs4"
      }
    },
    {
      "cell_type": "code",
      "source": [
        "def list_to_dict(l=[]):\n",
        "  d = {}\n",
        "  if not l:\n",
        "    return None\n",
        "  else:\n",
        "      for i in l:\n",
        "        if i not in d.keys():\n",
        "          d[i] = 1\n",
        "        else :\n",
        "          d[i] += 1\n",
        "  return d\n",
        "\n",
        "\n",
        "print(list_to_dict())\n",
        "print(list_to_dict([]))\n",
        "print((list_to_dict([\"sunny\", \"cloudy\", \"rainy\", \"foggy\", \"windy\", \"sunny\", \"cloudy\"])))"
      ],
      "metadata": {
        "id": "OsWm-hKcBFyn",
        "colab": {
          "base_uri": "https://localhost:8080/"
        },
        "outputId": "0b5a5dd2-31a2-46a7-b01d-e04710f710f7"
      },
      "execution_count": null,
      "outputs": [
        {
          "output_type": "stream",
          "name": "stdout",
          "text": [
            "None\n",
            "None\n",
            "{'sunny': 2, 'cloudy': 2, 'rainy': 1, 'foggy': 1, 'windy': 1}\n"
          ]
        }
      ]
    },
    {
      "cell_type": "markdown",
      "source": [
        "7. (15б) Напишіть програму, яка б шукала необхідне число у впорядкованому списку цілочислених значень, де\n",
        "число має вводитись з консолі.\n",
        "власне алгоритм пошуку винесений в окрему функцію, яка повертає булеве значення (знайдено число - True, не знайдено - False).\n",
        "в залежності від результату функції, виведіть на екран повідомлення про успішний або ж неуспішний пошук.\n",
        "Зауваження: використовувати оператор in заборонено."
      ],
      "metadata": {
        "id": "RMiCcdOsBKQT"
      }
    },
    {
      "cell_type": "code",
      "source": [
        "def find_a_num(l, n):\n",
        "  print(l)\n",
        "  if not l:\n",
        "    return False # num is not in the list\n",
        "  else:\n",
        "    if l[0] == n:\n",
        "      return True\n",
        "    else:\n",
        "      return find_a_num(l[1:],n)\n",
        "\n",
        "nums = [10, 12, 14, 32, 17, 22, 7, 9, 3, 47]\n",
        "\n",
        "print('Enter a num for search in the list')\n",
        "certain_num = input()\n",
        "\n",
        "\n",
        "print(find_a_num(nums, int(certain_num)))"
      ],
      "metadata": {
        "id": "UNCZg65OBOy-",
        "colab": {
          "base_uri": "https://localhost:8080/"
        },
        "outputId": "7defcfd9-c9c8-4ee5-a81e-de3de6c3c01e"
      },
      "execution_count": null,
      "outputs": [
        {
          "output_type": "stream",
          "name": "stdout",
          "text": [
            "Enter a num for search in the list\n",
            "12\n",
            "[10, 12, 14, 32, 17, 22, 7, 9, 3, 47]\n",
            "[12, 14, 32, 17, 22, 7, 9, 3, 47]\n",
            "True\n"
          ]
        }
      ]
    },
    {
      "cell_type": "markdown",
      "source": [
        "# II. Lambda functions."
      ],
      "metadata": {
        "id": "Ae1n_OvLBTsy"
      }
    },
    {
      "cell_type": "markdown",
      "source": [
        "8. (4б) В яких випадках варто використовувати лямбда-функції?"
      ],
      "metadata": {
        "id": "xaD_wSlaCWen"
      }
    },
    {
      "cell_type": "markdown",
      "source": [
        "*місце для текстової відповіді\n",
        "\n",
        "anonymous (one-lined functions), вони використовуються у схватці з іншими функціями(наприклад, map, filter, etc.)\n",
        "їх не можна перевикористати"
      ],
      "metadata": {
        "id": "42MB6OoLCakR"
      }
    },
    {
      "cell_type": "markdown",
      "source": [
        "9. (9б) Визначте список з рядками. Після цього визначте анонімну функцію для отримання першого символу у верхньому регістрі для кожного рядка списку.\n",
        "Підказка: використовуйте анонімну функцію в якості агрумента до вбудованої ф-ції, яка створена для застосування функцій над iterable обʼєктами. Результат виведіть на екран у вигляді кортежу."
      ],
      "metadata": {
        "id": "USrzrk7GCedk"
      }
    },
    {
      "cell_type": "code",
      "source": [
        "list_with_srings = [\"icon\",\"lamda\",\"octopus\",\"vengeance\",\"easter egg\",\"yolo!\",\"origami\",\"unique\"]\n",
        "\n",
        "l = list(map(lambda x : x[0].upper(), list_with_srings))\n",
        "l"
      ],
      "metadata": {
        "id": "M8QWUsMlCjWH",
        "colab": {
          "base_uri": "https://localhost:8080/"
        },
        "outputId": "10dd4640-e523-4f9a-fa30-af0b4feaf613"
      },
      "execution_count": 2,
      "outputs": [
        {
          "output_type": "execute_result",
          "data": {
            "text/plain": [
              "['I', 'L', 'O', 'V', 'E', 'Y', 'O', 'U']"
            ]
          },
          "metadata": {},
          "execution_count": 2
        }
      ]
    },
    {
      "cell_type": "markdown",
      "source": [
        "10. (10б) Визначте список з числовими значеннями (і цілими, і з рухомою комою). а) Відфільтруйте всі числа, які діляться націло на 3 за допомогою вбудованої функції та анонімної функції в якості аргумента). Збережіть результат у змінній, не приводяти явно до будь-якого типу. б) Використовуючи результат на кроці 12.а у якості аргументу, та за допомогою лямбда-функції в якості іншого аргументу до вбудованої функції, додайте до кожного елементу число 1 та опісля зведіть у квадрат. Остаточний результат приведіть явно до списку та виведіть на екран."
      ],
      "metadata": {
        "id": "9fyUhXOoCtGp"
      }
    },
    {
      "cell_type": "code",
      "source": [
        "l_w_nums = [1.2,2.7,3,4,5,6.2,7,8,9,0]\n",
        "\n",
        "t = filter(lambda x: x%3==0, l_w_nums) #3, 9, 0 norm\n",
        "\n",
        "res = list(map( lambda y: (y+1)**2, t))\n",
        "\n",
        "res"
      ],
      "metadata": {
        "id": "exEx2_okCsql",
        "colab": {
          "base_uri": "https://localhost:8080/"
        },
        "outputId": "1a4195a8-a9cb-4909-9a9e-ee080bc7a7b9"
      },
      "execution_count": 7,
      "outputs": [
        {
          "output_type": "execute_result",
          "data": {
            "text/plain": [
              "[16, 100, 1]"
            ]
          },
          "metadata": {},
          "execution_count": 7
        }
      ]
    },
    {
      "cell_type": "markdown",
      "source": [
        "# III. Decorators."
      ],
      "metadata": {
        "id": "o_x8cG_WC7jp"
      }
    },
    {
      "cell_type": "markdown",
      "source": [
        "11. (11б) Визначте декоратор, який би виводив у консоль повідомлення про початок роботи і назву функції (напр. my_function._ _ name _ _), а після відпрацювання функції - повідомлення про закінчення роботи і назву функції, що задекорована."
      ],
      "metadata": {
        "id": "mhxS4-mfC8LQ"
      }
    },
    {
      "cell_type": "code",
      "source": [
        "def my_decorator(func):\n",
        "  def wrapper(*args, **kwargs):\n",
        "    print(f\"Function {func.__name__} started the process\")\n",
        "    result = func(*args, **kwargs)\n",
        "    print(f\"Function {func.__name__} finished the process\")\n",
        "    return result\n",
        "  return wrapper"
      ],
      "metadata": {
        "id": "srd1ygWjDGhO"
      },
      "execution_count": 27,
      "outputs": []
    },
    {
      "cell_type": "markdown",
      "source": [
        "12. (4б) Задекоруйте двома різними способами функції з завдання 4 та 5 декоратором із завдання 11. (**УВАГА**: не декоруйте функції двічі!)."
      ],
      "metadata": {
        "id": "rxGZwVBiDph3"
      }
    },
    {
      "cell_type": "code",
      "source": [
        "substraction = my_decorator(substraction)"
      ],
      "metadata": {
        "id": "CbTkQgmWFja8"
      },
      "execution_count": 13,
      "outputs": []
    },
    {
      "cell_type": "code",
      "source": [
        "@my_decorator\n",
        "def divide(a, b):\n",
        "  if b == 0:\n",
        "    return None\n",
        "  else :\n",
        "    return a / b"
      ],
      "metadata": {
        "id": "sDbi1Y3WN29x"
      },
      "execution_count": 28,
      "outputs": []
    },
    {
      "cell_type": "markdown",
      "source": [
        "13. (2б) Викличте одну з задекорованих функцій і виведіть її результат на екран."
      ],
      "metadata": {
        "id": "P0ep1urBDzf-"
      }
    },
    {
      "cell_type": "code",
      "source": [
        "divide(10,4)"
      ],
      "metadata": {
        "id": "1QvTw0ctD0S3",
        "colab": {
          "base_uri": "https://localhost:8080/"
        },
        "outputId": "50a9afa0-93a5-4a29-f8b6-4b9c31d2f65b"
      },
      "execution_count": 33,
      "outputs": [
        {
          "output_type": "stream",
          "name": "stdout",
          "text": [
            "Function divide started the process\n",
            "Function divide finished the process\n"
          ]
        },
        {
          "output_type": "execute_result",
          "data": {
            "text/plain": [
              "2.5"
            ]
          },
          "metadata": {},
          "execution_count": 33
        }
      ]
    },
    {
      "cell_type": "code",
      "source": [
        "substraction(2,3)"
      ],
      "metadata": {
        "colab": {
          "base_uri": "https://localhost:8080/"
        },
        "id": "lJkqJF_aMeFA",
        "outputId": "c49ccd61-9392-4c50-e817-c75dfbf86eb1"
      },
      "execution_count": 30,
      "outputs": [
        {
          "output_type": "stream",
          "name": "stdout",
          "text": [
            "Function <function substraction at 0x7aa9d069da20> started the process\n",
            "Function <function substraction at 0x7aa9d069da20> finished the process\n"
          ]
        },
        {
          "output_type": "execute_result",
          "data": {
            "text/plain": [
              "-1"
            ]
          },
          "metadata": {},
          "execution_count": 30
        }
      ]
    },
    {
      "cell_type": "markdown",
      "source": [
        "# IV. Recursion."
      ],
      "metadata": {
        "id": "poECCpuoD2S9"
      }
    },
    {
      "cell_type": "markdown",
      "source": [
        "14. (4б) Назвіть дві частини функції, які є обовʼязковими для того, щоб називати її рекурсивною."
      ],
      "metadata": {
        "id": "DqkURfdsD7MY"
      }
    },
    {
      "cell_type": "markdown",
      "source": [
        "*місце для відповіді\n",
        "\n",
        "- base case\n",
        "- inner call of the same function (recursive call)"
      ],
      "metadata": {
        "id": "HYW6ttIeIQIU"
      }
    },
    {
      "cell_type": "markdown",
      "source": [
        "15. (15б) Визначте функцію, яка рекурсивно реалізовує пошук числа у послідовності Фібоначчі за її індексом (нумерація починається з нуля). Наприклад, потрібно знайти перше число у послідовності, тоді функція прийматиме 0 у якості аргумента і повертатиме 1, якщо ж знаходити третє число (індекс 2) послідовності, то функція повертатиме 2, якщо ж знаходити десяте число (індекс 9), то функція повертатиме 55."
      ],
      "metadata": {
        "id": "WYVt20UmEA35"
      }
    },
    {
      "cell_type": "code",
      "source": [
        "def fib(n):\n",
        "  if n == 0:\n",
        "    return 0\n",
        "  elif n == 1 or n == 2:\n",
        "    return 1\n",
        "  else:\n",
        "    return fib(n-1) + fib(n-2)\n",
        "\n",
        "def fib_in_list(n):\n",
        "  l = [fib(i) for i in range (1, n+1) ]\n",
        "  return l[-1]\n",
        "\n",
        "print(fib_in_list(6))\n",
        "print(fib_in_list(10))\n",
        "print(fib_in_list(21))\n",
        "print(fib_in_list(35))"
      ],
      "metadata": {
        "id": "xIMhp05AIpV_",
        "colab": {
          "base_uri": "https://localhost:8080/"
        },
        "outputId": "f04d4d6f-aa2b-4142-e65c-3b418c88ac04"
      },
      "execution_count": null,
      "outputs": [
        {
          "output_type": "stream",
          "name": "stdout",
          "text": [
            "8\n",
            "55\n",
            "10946\n",
            "9227465\n"
          ]
        }
      ]
    },
    {
      "cell_type": "markdown",
      "source": [
        "# Вітаю! Ви велика(ий) молодець, що впоралась(вся). Похваліть себе та побалуйте чимось приємним. Я Вами пишаюся."
      ],
      "metadata": {
        "id": "ytXC8n_4Ip0W"
      }
    }
  ]
}